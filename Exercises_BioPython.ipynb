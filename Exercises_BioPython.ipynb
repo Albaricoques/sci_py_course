{
 "cells": [
  {
   "cell_type": "code",
   "execution_count": 18,
   "metadata": {},
   "outputs": [
    {
     "data": {
      "text/plain": [
       "{'seq0': 'FQTWEEFSRAAEKLYLADPMKVRVVLKYRHVDGNLCIKVTDDLVCLVYRTDQAQDVKKIEKF',\n",
       " 'seq1': 'KYRTWEEFTRAAEKLYQADPMKVRVVLKYRHCDGNLCIKVTDDVVCLLYRTDQAQDVKKIEKFHSQLMRLME LKVTDNKECLKFKTDQAQEAKKMEKLNNIFFTLM',\n",
       " 'seq2': 'EEYQTWEEFARAAEKLYLTDPMKVRVVLKYRHCDGNLCMKVTDDAVCLQYKTDQAQDVKKVEKLHGK',\n",
       " 'seq3': 'MYQVWEEFSRAVEKLYLTDPMKVRVVLKYRHCDGNLCIKVTDNSVCLQYKTDQAQDVK',\n",
       " 'seq4': 'EEFSRAVEKLYLTDPMKVRVVLKYRHCDGNLCIKVTDNSVVSYEMRLFGVQKDNFALEHSLL',\n",
       " 'seq5': 'SWEEFAKAAEVLYLEDPMKCRMCTKYRHVDHKLVVKLTDNHTVLKYVTDMAQDVKKIEKLTTLLMR',\n",
       " 'seq6': 'FTNWEEFAKAAERLHSANPEKCRFVTKYNHTKGELVLKLTDDVVCLQYSTNQLQDVKKLEKLSSTLLRSI',\n",
       " 'seq7': 'SWEEFVERSVQLFRGDPNATRYVMKYRHCEGKLVLKVTDDRECLKFKTDQAQDAKKMEKLNNIFF',\n",
       " 'seq8': 'SWDEFVDRSVQLFRADPESTRYVMKYRHCDGKLVLKVTDNKECLKFKTDQAQEAKKMEKLNNIFFTLM',\n",
       " 'seq9': 'KNWEDFEIAAENMYMANPQNCRYTMKYVHSKGHILLKMSDNVKCVQYRAENMPDLKK',\n",
       " 'seq10': 'FDSWDEFVSKSVELFRNHPDTTRYVVKYRHCEGKLVLKVTDNHECLKFKTDQAQDAKKMEK'}"
      ]
     },
     "execution_count": 18,
     "metadata": {},
     "output_type": "execute_result"
    }
   ],
   "source": [
    "# 1\n",
    "'''\n",
    "Let's remeber how to use dictionaries.\n",
    "Task: return a dictionary where \n",
    "    * keys are IDs of seqs from an input fasta file (prot.fasta),\n",
    "    * key's values are seqs itself. \n",
    "'''\n",
    "\n",
    "def my_own_fasta_parser(inFile):\n",
    "\n",
    "    sequences = {}\n",
    "\n",
    "    with open(inFile) as f:#<<<<<<<<<<...>>>>>>>>>>>\n",
    "        for line in f.readlines():#<<<<<<<<<<...>>>>>>>>>>>\n",
    "#             print(line)\n",
    "            line = line.strip() #<<<<<<<<<<...>>>>>>>>>>>\n",
    "            if line.startswith('>'): #<<<<<<<<<<...>>>>>>>>>>>\n",
    "#                 print(line)\n",
    "                seq_id = line[1:] #str(line.split('>seq')[1]) #<<<<<<<<<<...>>>>>>>>>>>[1:]\n",
    "            else:\n",
    "                sequences[seq_id] = line #<<<<<<<<<<...>>>>>>>>>>> = line\n",
    "\n",
    "    return sequences\n",
    "\n",
    "my_own_fasta_parser('prot.fasta')"
   ]
  },
  {
   "cell_type": "code",
   "execution_count": 24,
   "metadata": {},
   "outputs": [
    {
     "name": "stdout",
     "output_type": "stream",
     "text": [
      "FQTWEEFSRAAEKLYLADPMKVRVVLKYRHVDGNLCIKVTDDLVCLVYRTDQAQDVKKIEKF\n",
      "0.12903225806451613\n",
      "KYRTWEEFTRAAEKLYQADPMKVRVVLKYRHCDGNLCIKVTDDVVCLLYRTDQAQDVKKIEKFHSQLMRLME LKVTDNKECLKFKTDQAQEAKKMEKLNNIFFTLM\n",
      "0.07476635514018691\n",
      "EEYQTWEEFARAAEKLYLTDPMKVRVVLKYRHCDGNLCMKVTDDAVCLQYKTDQAQDVKKVEKLHGK\n",
      "0.1044776119402985\n",
      "MYQVWEEFSRAVEKLYLTDPMKVRVVLKYRHCDGNLCIKVTDNSVCLQYKTDQAQDVK\n",
      "0.13793103448275862\n",
      "EEFSRAVEKLYLTDPMKVRVVLKYRHCDGNLCIKVTDNSVVSYEMRLFGVQKDNFALEHSLL\n",
      "0.12903225806451613\n",
      "SWEEFAKAAEVLYLEDPMKCRMCTKYRHVDHKLVVKLTDNHTVLKYVTDMAQDVKKIEKLTTLLMR\n",
      "0.10606060606060606\n",
      "FTNWEEFAKAAERLHSANPEKCRFVTKYNHTKGELVLKLTDDVVCLQYSTNQLQDVKKLEKLSSTLLRSI\n",
      "0.07142857142857142\n",
      "SWEEFVERSVQLFRGDPNATRYVMKYRHCEGKLVLKVTDDRECLKFKTDQAQDAKKMEKLNNIFF\n",
      "0.07692307692307693\n",
      "SWDEFVDRSVQLFRADPESTRYVMKYRHCDGKLVLKVTDNKECLKFKTDQAQEAKKMEKLNNIFFTLM\n",
      "0.07352941176470588\n",
      "KNWEDFEIAAENMYMANPQNCRYTMKYVHSKGHILLKMSDNVKCVQYRAENMPDLKK\n",
      "0.05263157894736842\n",
      "FDSWDEFVSKSVELFRNHPDTTRYVVKYRHCEGKLVLKVTDNHECLKFKTDQAQDAKKMEK\n",
      "0.09836065573770492\n"
     ]
    },
    {
     "data": {
      "text/plain": [
       "['seq0', 'seq2', 'seq3', 'seq4', 'seq5']"
      ]
     },
     "execution_count": 24,
     "metadata": {},
     "output_type": "execute_result"
    }
   ],
   "source": [
    "# 2\n",
    "'''\n",
    "Another super easy task.\n",
    "\n",
    "We have the same fasta file (prot.fasta).\n",
    "Now we want to get a list with the ids of protein seqs that have \n",
    "a relative frequency higher than a given threshold for a given residue.\n",
    "\n",
    "And don't forget to use my_own_fasta_parser function from a previous task!\n",
    "'''\n",
    "\n",
    "def my_own_residue_abundance(input_file, residue, threshold=0.2):\n",
    "    \n",
    "    seq_ids = []\n",
    "    sequences = my_own_fasta_parser(input_file) #<<<<<<<<<<...>>>>>>>>>>>\n",
    "\n",
    "    for seq_id, sequence in sequences.items():\n",
    "        print(sequence)\n",
    "        print(sequence.count(residue)/len(sequence))\n",
    "        freq = sequence.count(residue)/len(sequence) #<<<<<<<<<<...>>>>>>>>>>>\n",
    "        if freq > threshold: #<<<<<<<<<<...>>>>>>>>>>>\n",
    "            seq_ids.append(seq_id) #<<<<<<<<<<...>>>>>>>>>>>\n",
    "\n",
    "    return seq_ids\n",
    "\n",
    "my_own_residue_abundance('prot.fasta', 'V', 0.1)"
   ]
  },
  {
   "cell_type": "code",
   "execution_count": 58,
   "metadata": {},
   "outputs": [
    {
     "name": "stdout",
     "output_type": "stream",
     "text": [
      "0.2857142857142857\n"
     ]
    }
   ],
   "source": [
    "# 3\n",
    "'''\n",
    "Let's practice in Bio package using.\n",
    "Task:\n",
    "1. read fasta file containing several DNA seqs (nucl.fasta)\n",
    "2. subset seqs that have GC content > 45 and coding protein with aromaticity > 0.01\n",
    "3. write a new fasta file with those protein(!) seqs\n",
    "4. return the percentage of seqs that passed your filter\n",
    "Hint: Bio.SeqIO, Bio.SeqRecord, Bio.SeqUtils\n",
    "'''\n",
    "\n",
    "from Bio import SeqIO, SeqUtils #<<<<<<<<<<...>>>>>>>>>>>\n",
    "from Bio.SeqUtils.ProtParam import ProteinAnalysis\n",
    "from Bio.SeqRecord import SeqRecord\n",
    "\n",
    "def my_own_filtering(input_file, output_file, filt_gc=45, filt_arom=0.01):\n",
    "    \n",
    "    sequences = {}\n",
    "    c = 0\n",
    "    \n",
    "    with open(input_file, \"r\") as content:\n",
    "        \n",
    "        for record in SeqIO.parse(content, \"fasta\"):\n",
    "            c+=1\n",
    "            # print(record.id)\n",
    "            \n",
    "            # calculate GC content using Bio\n",
    "            calc_gc = SeqUtils.GC(record.seq) #<<<<<<<<<<...>>>>>>>>>>>\n",
    "            # print(calc_gc) \n",
    "            \n",
    "            # calculate aromaticity using Bio\n",
    "            protein = record.seq.translate() #<<<<<<<<<<...>>>>>>>>>>>\n",
    "            # print(protein)\n",
    "            X = ProteinAnalysis(str(protein)) #<<<<<<<<<<...>>>>>>>>>>>\n",
    "            calc_arom = X.aromaticity() #<<<<<<<<<<...>>>>>>>>>>>\n",
    "            # print(calc_arom)\n",
    "            \n",
    "            \n",
    "            # so, now you can filter\n",
    "            if calc_gc >= filt_gc and calc_arom >= filt_arom:\n",
    "                # print(record.id)\n",
    "                sequences[record.id] = record.seq #<<<<<<<<<<...>>>>>>>>>>>\n",
    "    \n",
    "    # write a new fasta file with aminoacids\n",
    "    records = []\n",
    "    for seq_id, seq in sequences.items():\n",
    "        # print(seq_id)\n",
    "        # print(seq)\n",
    "        records.append(SeqRecord(seq, seq_id, description=\"\")) #<<<<<<<<<<...>>>>>>>>>>>\n",
    "    handle = open(\"MySeqs.fasta\",\"w\")#<<<<<<<<<<...>>>>>>>>>>>\n",
    "    SeqIO.write(records, handle, \"fasta\")\n",
    "    handle.close()\n",
    "\n",
    "\n",
    "    # print the percentage\n",
    "    # print(c, len(records))\n",
    "    print(len(records)/c) #<<<<<<<<<<...>>>>>>>>>>>\n",
    "\n",
    "my_own_filtering('nucl.fasta', 'output')"
   ]
  },
  {
   "cell_type": "code",
   "execution_count": 120,
   "metadata": {},
   "outputs": [
    {
     "name": "stdout",
     "output_type": "stream",
     "text": [
      "ATTCGT\n",
      ".   ||\n",
      "T---GT\n",
      "  Score=0\n",
      "\n"
     ]
    },
    {
     "data": {
      "text/plain": [
       "Alignment(seqA='ATTCGT', seqB='T---GT', score=0.0, start=0, end=6)"
      ]
     },
     "execution_count": 120,
     "metadata": {},
     "output_type": "execute_result"
    }
   ],
   "source": [
    "# 4\n",
    "\"\"\"\n",
    "Continue practicing in Bio package using:\n",
    "Task:\n",
    "complete the following code that should be able to return \n",
    "the best alignment of two amino acid seqs (pairwise2.align.globalds)\n",
    "based on BLOSUM62 matrix from Bio.SubsMat.MatrixInfo.\n",
    "http://rosalind.info/glossary/blosum62/\n",
    "\"\"\"\n",
    "\n",
    "from Bio import pairwise2 #<<<<<<<<<<...>>>>>>>>>>>\n",
    "from Bio.SubsMat import MatrixInfo as matlist\n",
    "\n",
    "def balign(first_seq, second_seq, gap_open=-10.0, gap_extend=-0.5): #, #<<<<<<<<<<...>>>>>>>>>>>):\n",
    "\n",
    "    # Load the matrix\n",
    "    matrix = matlist.blosum62\n",
    "\n",
    "    # Generate the alignments\n",
    "    alns = pairwise2.align.globalds(first_seq, second_seq, matrix, gap_open, gap_extend) #<<<<<<<<<<...>>>>>>>>>>>\n",
    "\n",
    "    # Extract the best alignment (first one in the alns list)\n",
    "    top_aln = alns[0] #<<<<<<<<<<...>>>>>>>>>>>\n",
    "\n",
    "    # Print the alignment, ...\n",
    "#     aln_A, aln_B, score, begin, end = #<<<<<<<<<<...>>>>>>>>>>>\n",
    "    print(pairwise2.format_alignment(*top_aln)) #<<<<<<<<<<...>>>>>>>>>>>\n",
    "    return(top_aln)\n",
    "    \n",
    "balign('ATTCGT', 'TGT')"
   ]
  },
  {
   "cell_type": "code",
   "execution_count": 131,
   "metadata": {},
   "outputs": [
    {
     "name": "stdout",
     "output_type": "stream",
     "text": [
      "Y\n",
      "S\n",
      "P\n",
      "MIS\n",
      "LHRML\n",
      "RYLTRS\n",
      "GILRDH\n",
      "STRAFYG\n",
      "VLEHSME\n",
      "HDLVRYL\n",
      "SIECSST\n",
      "EVSYEIM\n"
     ]
    }
   ],
   "source": [
    "# 5\n",
    "\"\"\" You have some DNA sequence: AGTACTAGAGCATTCTATGGAG.\n",
    "Find out which peptides could be created from it and sort them by their length.\n",
    "Use as much Biopython modules as possible.\n",
    "\"\"\"\n",
    "import Bio\n",
    "\n",
    "peptides=[]\n",
    "mut_seq = Bio.Seq.MutableSeq('AGTACTAGAGCATTCTATGGAG')\n",
    "seq = mut_seq.toseq()\n",
    "for i in range(0,3):\n",
    "    peptides.append(seq[i:].translate(to_stop=True))\n",
    "# print(peptides)\n",
    "\n",
    "mut_seq.complement()\n",
    "seq = mut_seq.toseq()\n",
    "for i in range(0,3):\n",
    "    peptides.append(seq[i:].translate(to_stop=True))\n",
    "    \n",
    "mut_seq.reverse()\n",
    "seq = mut_seq.toseq()\n",
    "for i in range(0,3):\n",
    "    peptides.append(seq[i:].translate(to_stop=True))\n",
    "    \n",
    "    \n",
    "mut_seq.complement()\n",
    "seq = mut_seq.toseq()\n",
    "for i in range(0,3):\n",
    "    peptides.append(seq[i:].translate(to_stop=True))\n",
    "    \n",
    "# print(peptides)\n",
    "for peptide in sorted(peptides, key=len):\n",
    "    print(peptide)\n",
    "# peptides = [peptide.split('*')[0] for peptide in peptides]\n",
    "# print(peptides)\n",
    "\n",
    "# from Bio.SeqUtils import six_frame_translations\n",
    "# print(six_frame_translations('AGTACTAGAGCATTCTATGGAG'))\n",
    "# print(six_frame_translations('AGTACTAGAGCATTCTATGGAG'[::-1]))"
   ]
  },
  {
   "cell_type": "code",
   "execution_count": 65,
   "metadata": {},
   "outputs": [
    {
     "data": {
      "text/plain": [
       "'CGAT'"
      ]
     },
     "execution_count": 65,
     "metadata": {},
     "output_type": "execute_result"
    }
   ],
   "source": [
    "# 6\n",
    "\"\"\" TASK: Try to create one-line function (without (!!!) using Bio package) \n",
    "that returns reverse complementary to a given sequence. \n",
    "Hint: using dictionaty & list comprehensions might be helpful.\n",
    "\"\"\"\n",
    "\n",
    "def rev_compl_one_line(seq):\n",
    "    return \"\".join({'A':'T', 'C':'G', 'T':'A', 'G':'C'}.get(base, base) for base in reversed(seq)) #<<<<<<<<<<...>>>>>>>>>>>\n",
    "\n",
    "rev_compl_one_line('ATCG')"
   ]
  }
 ],
 "metadata": {
  "kernelspec": {
   "display_name": "Python 3",
   "language": "python",
   "name": "python3"
  },
  "language_info": {
   "codemirror_mode": {
    "name": "ipython",
    "version": 3
   },
   "file_extension": ".py",
   "mimetype": "text/x-python",
   "name": "python",
   "nbconvert_exporter": "python",
   "pygments_lexer": "ipython3",
   "version": "3.8.5"
  }
 },
 "nbformat": 4,
 "nbformat_minor": 2
}
