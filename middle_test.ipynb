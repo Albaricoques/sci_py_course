{
 "cells": [
  {
   "cell_type": "markdown",
   "metadata": {},
   "source": [
    "TASK 1\n",
    "\n",
    "DON\n",
    "TPA\n",
    "NIC"
   ]
  },
  {
   "cell_type": "code",
   "execution_count": null,
   "metadata": {},
   "outputs": [],
   "source": []
  },
  {
   "cell_type": "markdown",
   "metadata": {},
   "source": [
    "TASK 2\n",
    "\n",
    "You have some dataset describing concentrations of five algae metabolites. For each algae there is\n",
    "a species name, its genus and its group.\n",
    " Using pandas library find the average concentration of each of the metabolite in each aglae\n",
    "genus.\n",
    " Visualize the result using seaborn library."
   ]
  },
  {
   "cell_type": "code",
   "execution_count": null,
   "metadata": {},
   "outputs": [],
   "source": [
    "import pandas as pd\n",
    "import seaborn as sns"
   ]
  },
  {
   "cell_type": "code",
   "execution_count": 3,
   "metadata": {},
   "outputs": [],
   "source": [
    "df = pd.read_csv(\"~/Downloads/data_for_task2.csv\")"
   ]
  },
  {
   "cell_type": "code",
   "execution_count": 30,
   "metadata": {},
   "outputs": [
    {
     "data": {
      "text/html": [
       "<div>\n",
       "<style scoped>\n",
       "    .dataframe tbody tr th:only-of-type {\n",
       "        vertical-align: middle;\n",
       "    }\n",
       "\n",
       "    .dataframe tbody tr th {\n",
       "        vertical-align: top;\n",
       "    }\n",
       "\n",
       "    .dataframe thead th {\n",
       "        text-align: right;\n",
       "    }\n",
       "</style>\n",
       "<table border=\"1\" class=\"dataframe\">\n",
       "  <thead>\n",
       "    <tr style=\"text-align: right;\">\n",
       "      <th></th>\n",
       "      <th>species</th>\n",
       "      <th>genus</th>\n",
       "      <th>group</th>\n",
       "      <th>sucrose</th>\n",
       "      <th>alanin</th>\n",
       "      <th>citrate</th>\n",
       "      <th>glucose</th>\n",
       "      <th>oleic_acid</th>\n",
       "    </tr>\n",
       "  </thead>\n",
       "  <tbody>\n",
       "    <tr>\n",
       "      <th>0</th>\n",
       "      <td>Fucus_vesiculosus</td>\n",
       "      <td>Fucus</td>\n",
       "      <td>brown</td>\n",
       "      <td>3.001472</td>\n",
       "      <td>3.711498</td>\n",
       "      <td>5.004262</td>\n",
       "      <td>2.548459</td>\n",
       "      <td>6.405165</td>\n",
       "    </tr>\n",
       "    <tr>\n",
       "      <th>1</th>\n",
       "      <td>Saccharina_japonica</td>\n",
       "      <td>Saccharina</td>\n",
       "      <td>brown</td>\n",
       "      <td>6.731070</td>\n",
       "      <td>1.255251</td>\n",
       "      <td>5.621499</td>\n",
       "      <td>6.013219</td>\n",
       "      <td>4.156700</td>\n",
       "    </tr>\n",
       "    <tr>\n",
       "      <th>2</th>\n",
       "      <td>Fucus_serratus</td>\n",
       "      <td>Fucus</td>\n",
       "      <td>brown</td>\n",
       "      <td>3.276870</td>\n",
       "      <td>0.346431</td>\n",
       "      <td>1.216767</td>\n",
       "      <td>3.623225</td>\n",
       "      <td>0.304573</td>\n",
       "    </tr>\n",
       "    <tr>\n",
       "      <th>3</th>\n",
       "      <td>Fucus_distichus</td>\n",
       "      <td>Fucus</td>\n",
       "      <td>brown</td>\n",
       "      <td>6.786996</td>\n",
       "      <td>6.641303</td>\n",
       "      <td>6.423606</td>\n",
       "      <td>2.272724</td>\n",
       "      <td>3.393203</td>\n",
       "    </tr>\n",
       "    <tr>\n",
       "      <th>4</th>\n",
       "      <td>Cladophora_fracta</td>\n",
       "      <td>Cladophora</td>\n",
       "      <td>green</td>\n",
       "      <td>3.861470</td>\n",
       "      <td>1.648450</td>\n",
       "      <td>6.940588</td>\n",
       "      <td>2.316955</td>\n",
       "      <td>2.528886</td>\n",
       "    </tr>\n",
       "  </tbody>\n",
       "</table>\n",
       "</div>"
      ],
      "text/plain": [
       "               species       genus  group   sucrose    alanin   citrate  \\\n",
       "0    Fucus_vesiculosus       Fucus  brown  3.001472  3.711498  5.004262   \n",
       "1  Saccharina_japonica  Saccharina  brown  6.731070  1.255251  5.621499   \n",
       "2       Fucus_serratus       Fucus  brown  3.276870  0.346431  1.216767   \n",
       "3      Fucus_distichus       Fucus  brown  6.786996  6.641303  6.423606   \n",
       "4    Cladophora_fracta  Cladophora  green  3.861470  1.648450  6.940588   \n",
       "\n",
       "    glucose  oleic_acid  \n",
       "0  2.548459    6.405165  \n",
       "1  6.013219    4.156700  \n",
       "2  3.623225    0.304573  \n",
       "3  2.272724    3.393203  \n",
       "4  2.316955    2.528886  "
      ]
     },
     "execution_count": 30,
     "metadata": {},
     "output_type": "execute_result"
    }
   ],
   "source": [
    "df.head()"
   ]
  },
  {
   "cell_type": "code",
   "execution_count": 31,
   "metadata": {},
   "outputs": [
    {
     "data": {
      "text/html": [
       "<div>\n",
       "<style scoped>\n",
       "    .dataframe tbody tr th:only-of-type {\n",
       "        vertical-align: middle;\n",
       "    }\n",
       "\n",
       "    .dataframe tbody tr th {\n",
       "        vertical-align: top;\n",
       "    }\n",
       "\n",
       "    .dataframe thead th {\n",
       "        text-align: right;\n",
       "    }\n",
       "</style>\n",
       "<table border=\"1\" class=\"dataframe\">\n",
       "  <thead>\n",
       "    <tr style=\"text-align: right;\">\n",
       "      <th></th>\n",
       "      <th>sucrose</th>\n",
       "      <th>alanin</th>\n",
       "      <th>citrate</th>\n",
       "      <th>glucose</th>\n",
       "      <th>oleic_acid</th>\n",
       "    </tr>\n",
       "    <tr>\n",
       "      <th>genus</th>\n",
       "      <th></th>\n",
       "      <th></th>\n",
       "      <th></th>\n",
       "      <th></th>\n",
       "      <th></th>\n",
       "    </tr>\n",
       "  </thead>\n",
       "  <tbody>\n",
       "    <tr>\n",
       "      <th>Ascophyllum</th>\n",
       "      <td>6.825467</td>\n",
       "      <td>0.875429</td>\n",
       "      <td>5.253527</td>\n",
       "      <td>3.414961</td>\n",
       "      <td>2.432526</td>\n",
       "    </tr>\n",
       "    <tr>\n",
       "      <th>Cladophora</th>\n",
       "      <td>4.008792</td>\n",
       "      <td>3.997055</td>\n",
       "      <td>5.288311</td>\n",
       "      <td>2.800276</td>\n",
       "      <td>2.263472</td>\n",
       "    </tr>\n",
       "    <tr>\n",
       "      <th>Fucus</th>\n",
       "      <td>4.355112</td>\n",
       "      <td>3.566411</td>\n",
       "      <td>4.214878</td>\n",
       "      <td>2.814803</td>\n",
       "      <td>3.367647</td>\n",
       "    </tr>\n",
       "    <tr>\n",
       "      <th>Palmaria</th>\n",
       "      <td>0.704580</td>\n",
       "      <td>3.176440</td>\n",
       "      <td>5.573905</td>\n",
       "      <td>3.242090</td>\n",
       "      <td>2.245538</td>\n",
       "    </tr>\n",
       "    <tr>\n",
       "      <th>Saccharina</th>\n",
       "      <td>4.183596</td>\n",
       "      <td>3.524207</td>\n",
       "      <td>3.346710</td>\n",
       "      <td>4.980594</td>\n",
       "      <td>4.487252</td>\n",
       "    </tr>\n",
       "  </tbody>\n",
       "</table>\n",
       "</div>"
      ],
      "text/plain": [
       "              sucrose    alanin   citrate   glucose  oleic_acid\n",
       "genus                                                          \n",
       "Ascophyllum  6.825467  0.875429  5.253527  3.414961    2.432526\n",
       "Cladophora   4.008792  3.997055  5.288311  2.800276    2.263472\n",
       "Fucus        4.355112  3.566411  4.214878  2.814803    3.367647\n",
       "Palmaria     0.704580  3.176440  5.573905  3.242090    2.245538\n",
       "Saccharina   4.183596  3.524207  3.346710  4.980594    4.487252"
      ]
     },
     "execution_count": 31,
     "metadata": {},
     "output_type": "execute_result"
    }
   ],
   "source": [
    "df2 = df.groupby('genus') \\\n",
    "    .aggregate({'sucrose': 'mean', 'alanin': 'mean', 'citrate': 'mean', 'glucose': 'mean', 'oleic_acid': 'mean'})\n",
    "df2"
   ]
  },
  {
   "cell_type": "code",
   "execution_count": 50,
   "metadata": {},
   "outputs": [],
   "source": [
    "df2['genus'] = df2.index #.rename(columns = {'genus':'genera'})"
   ]
  },
  {
   "cell_type": "code",
   "execution_count": 53,
   "metadata": {},
   "outputs": [],
   "source": [
    "df3 = pd.melt(\n",
    "    frame = df2,\n",
    "    id_vars = \"genus\")"
   ]
  },
  {
   "cell_type": "code",
   "execution_count": 54,
   "metadata": {},
   "outputs": [
    {
     "data": {
      "text/html": [
       "<div>\n",
       "<style scoped>\n",
       "    .dataframe tbody tr th:only-of-type {\n",
       "        vertical-align: middle;\n",
       "    }\n",
       "\n",
       "    .dataframe tbody tr th {\n",
       "        vertical-align: top;\n",
       "    }\n",
       "\n",
       "    .dataframe thead th {\n",
       "        text-align: right;\n",
       "    }\n",
       "</style>\n",
       "<table border=\"1\" class=\"dataframe\">\n",
       "  <thead>\n",
       "    <tr style=\"text-align: right;\">\n",
       "      <th></th>\n",
       "      <th>genus</th>\n",
       "      <th>variable</th>\n",
       "      <th>value</th>\n",
       "    </tr>\n",
       "  </thead>\n",
       "  <tbody>\n",
       "    <tr>\n",
       "      <th>0</th>\n",
       "      <td>Ascophyllum</td>\n",
       "      <td>sucrose</td>\n",
       "      <td>6.825467</td>\n",
       "    </tr>\n",
       "    <tr>\n",
       "      <th>1</th>\n",
       "      <td>Cladophora</td>\n",
       "      <td>sucrose</td>\n",
       "      <td>4.008792</td>\n",
       "    </tr>\n",
       "    <tr>\n",
       "      <th>2</th>\n",
       "      <td>Fucus</td>\n",
       "      <td>sucrose</td>\n",
       "      <td>4.355112</td>\n",
       "    </tr>\n",
       "    <tr>\n",
       "      <th>3</th>\n",
       "      <td>Palmaria</td>\n",
       "      <td>sucrose</td>\n",
       "      <td>0.704580</td>\n",
       "    </tr>\n",
       "    <tr>\n",
       "      <th>4</th>\n",
       "      <td>Saccharina</td>\n",
       "      <td>sucrose</td>\n",
       "      <td>4.183596</td>\n",
       "    </tr>\n",
       "    <tr>\n",
       "      <th>5</th>\n",
       "      <td>Ascophyllum</td>\n",
       "      <td>alanin</td>\n",
       "      <td>0.875429</td>\n",
       "    </tr>\n",
       "    <tr>\n",
       "      <th>6</th>\n",
       "      <td>Cladophora</td>\n",
       "      <td>alanin</td>\n",
       "      <td>3.997055</td>\n",
       "    </tr>\n",
       "    <tr>\n",
       "      <th>7</th>\n",
       "      <td>Fucus</td>\n",
       "      <td>alanin</td>\n",
       "      <td>3.566411</td>\n",
       "    </tr>\n",
       "    <tr>\n",
       "      <th>8</th>\n",
       "      <td>Palmaria</td>\n",
       "      <td>alanin</td>\n",
       "      <td>3.176440</td>\n",
       "    </tr>\n",
       "    <tr>\n",
       "      <th>9</th>\n",
       "      <td>Saccharina</td>\n",
       "      <td>alanin</td>\n",
       "      <td>3.524207</td>\n",
       "    </tr>\n",
       "    <tr>\n",
       "      <th>10</th>\n",
       "      <td>Ascophyllum</td>\n",
       "      <td>citrate</td>\n",
       "      <td>5.253527</td>\n",
       "    </tr>\n",
       "    <tr>\n",
       "      <th>11</th>\n",
       "      <td>Cladophora</td>\n",
       "      <td>citrate</td>\n",
       "      <td>5.288311</td>\n",
       "    </tr>\n",
       "    <tr>\n",
       "      <th>12</th>\n",
       "      <td>Fucus</td>\n",
       "      <td>citrate</td>\n",
       "      <td>4.214878</td>\n",
       "    </tr>\n",
       "    <tr>\n",
       "      <th>13</th>\n",
       "      <td>Palmaria</td>\n",
       "      <td>citrate</td>\n",
       "      <td>5.573905</td>\n",
       "    </tr>\n",
       "    <tr>\n",
       "      <th>14</th>\n",
       "      <td>Saccharina</td>\n",
       "      <td>citrate</td>\n",
       "      <td>3.346710</td>\n",
       "    </tr>\n",
       "    <tr>\n",
       "      <th>15</th>\n",
       "      <td>Ascophyllum</td>\n",
       "      <td>glucose</td>\n",
       "      <td>3.414961</td>\n",
       "    </tr>\n",
       "    <tr>\n",
       "      <th>16</th>\n",
       "      <td>Cladophora</td>\n",
       "      <td>glucose</td>\n",
       "      <td>2.800276</td>\n",
       "    </tr>\n",
       "    <tr>\n",
       "      <th>17</th>\n",
       "      <td>Fucus</td>\n",
       "      <td>glucose</td>\n",
       "      <td>2.814803</td>\n",
       "    </tr>\n",
       "    <tr>\n",
       "      <th>18</th>\n",
       "      <td>Palmaria</td>\n",
       "      <td>glucose</td>\n",
       "      <td>3.242090</td>\n",
       "    </tr>\n",
       "    <tr>\n",
       "      <th>19</th>\n",
       "      <td>Saccharina</td>\n",
       "      <td>glucose</td>\n",
       "      <td>4.980594</td>\n",
       "    </tr>\n",
       "    <tr>\n",
       "      <th>20</th>\n",
       "      <td>Ascophyllum</td>\n",
       "      <td>oleic_acid</td>\n",
       "      <td>2.432526</td>\n",
       "    </tr>\n",
       "    <tr>\n",
       "      <th>21</th>\n",
       "      <td>Cladophora</td>\n",
       "      <td>oleic_acid</td>\n",
       "      <td>2.263472</td>\n",
       "    </tr>\n",
       "    <tr>\n",
       "      <th>22</th>\n",
       "      <td>Fucus</td>\n",
       "      <td>oleic_acid</td>\n",
       "      <td>3.367647</td>\n",
       "    </tr>\n",
       "    <tr>\n",
       "      <th>23</th>\n",
       "      <td>Palmaria</td>\n",
       "      <td>oleic_acid</td>\n",
       "      <td>2.245538</td>\n",
       "    </tr>\n",
       "    <tr>\n",
       "      <th>24</th>\n",
       "      <td>Saccharina</td>\n",
       "      <td>oleic_acid</td>\n",
       "      <td>4.487252</td>\n",
       "    </tr>\n",
       "  </tbody>\n",
       "</table>\n",
       "</div>"
      ],
      "text/plain": [
       "          genus    variable     value\n",
       "0   Ascophyllum     sucrose  6.825467\n",
       "1    Cladophora     sucrose  4.008792\n",
       "2         Fucus     sucrose  4.355112\n",
       "3      Palmaria     sucrose  0.704580\n",
       "4    Saccharina     sucrose  4.183596\n",
       "5   Ascophyllum      alanin  0.875429\n",
       "6    Cladophora      alanin  3.997055\n",
       "7         Fucus      alanin  3.566411\n",
       "8      Palmaria      alanin  3.176440\n",
       "9    Saccharina      alanin  3.524207\n",
       "10  Ascophyllum     citrate  5.253527\n",
       "11   Cladophora     citrate  5.288311\n",
       "12        Fucus     citrate  4.214878\n",
       "13     Palmaria     citrate  5.573905\n",
       "14   Saccharina     citrate  3.346710\n",
       "15  Ascophyllum     glucose  3.414961\n",
       "16   Cladophora     glucose  2.800276\n",
       "17        Fucus     glucose  2.814803\n",
       "18     Palmaria     glucose  3.242090\n",
       "19   Saccharina     glucose  4.980594\n",
       "20  Ascophyllum  oleic_acid  2.432526\n",
       "21   Cladophora  oleic_acid  2.263472\n",
       "22        Fucus  oleic_acid  3.367647\n",
       "23     Palmaria  oleic_acid  2.245538\n",
       "24   Saccharina  oleic_acid  4.487252"
      ]
     },
     "execution_count": 54,
     "metadata": {},
     "output_type": "execute_result"
    }
   ],
   "source": [
    "df3"
   ]
  },
  {
   "cell_type": "code",
   "execution_count": 57,
   "metadata": {},
   "outputs": [
    {
     "data": {
      "text/plain": [
       "[Text(0, 0, 'Ascophyllum'),\n",
       " Text(1, 0, 'Cladophora'),\n",
       " Text(2, 0, 'Fucus'),\n",
       " Text(3, 0, 'Palmaria'),\n",
       " Text(4, 0, 'Saccharina')]"
      ]
     },
     "execution_count": 57,
     "metadata": {},
     "output_type": "execute_result"
    },
    {
     "data": {
      "image/png": "[encoded data removed]",
      "text/plain": [
       "<Figure size 864x792 with 1 Axes>"
      ]
     },
     "metadata": {},
     "output_type": "display_data"
    }
   ],
   "source": [
    "sns.set(rc={'figure.figsize':(12,11)})\n",
    "\n",
    "g = sns.barplot(x=\"genus\",\n",
    "                y=\"value\", \n",
    "                hue=\"variable\", \n",
    "                data = df3)\n",
    "\n",
    "# with readable x labels\n",
    "g.set_xticklabels(g.get_xticklabels(),\n",
    "                  rotation=45)"
   ]
  },
  {
   "cell_type": "code",
   "execution_count": null,
   "metadata": {},
   "outputs": [],
   "source": []
  },
  {
   "cell_type": "code",
   "execution_count": null,
   "metadata": {},
   "outputs": [],
   "source": []
  },
  {
   "cell_type": "code",
   "execution_count": null,
   "metadata": {},
   "outputs": [],
   "source": []
  },
  {
   "cell_type": "code",
   "execution_count": null,
   "metadata": {},
   "outputs": [],
   "source": []
  },
  {
   "cell_type": "markdown",
   "metadata": {},
   "source": [
    "TASK 3\n",
    "\n",
    "You have noticed that map() function returns something different than list. Simply saying, it returns\n",
    "iterator. In this connection, we used list(map(...)) syntax but remember that iterators in some\n",
    "cases are more preferable than lists.\n",
    "This task is devoted to understanding (repeating) how iterators work.\n",
    " First create iterator via my_iter = map(lambda ...) construction that takes [1,2,3,4,5,6] and\n",
    "returns True if there is no remainder after division of the list’s element on 3 and returns False\n",
    "otherwise.\n",
    " In infinite loop proceed the iterator using the next() function on it. Observe the appearing\n",
    "error in this loop.\n",
    " Write except block catching this particular (!) error.\n",
    " Based on this usecase try to understand (remember) in which cases iterators might be more\n",
    "preferable than lists and write down your thoughts."
   ]
  },
  {
   "cell_type": "code",
   "execution_count": 85,
   "metadata": {},
   "outputs": [],
   "source": [
    "my_iter = map(lambda x: x%3==0, [1,2,3,4,5,6])"
   ]
  },
  {
   "cell_type": "code",
   "execution_count": 83,
   "metadata": {},
   "outputs": [
    {
     "name": "stdout",
     "output_type": "stream",
     "text": [
      "False\n",
      "False\n",
      "True\n",
      "False\n",
      "False\n",
      "True\n"
     ]
    },
    {
     "ename": "StopIteration",
     "evalue": "",
     "output_type": "error",
     "traceback": [
      "\u001b[0;31m--------------------------------------------------------------------------\u001b[0m",
      "\u001b[0;31mStopIteration\u001b[0m                            Traceback (most recent call last)",
      "\u001b[0;32m<ipython-input-83-5176d1048c63>\u001b[0m in \u001b[0;36m<module>\u001b[0;34m\u001b[0m\n\u001b[1;32m      1\u001b[0m \u001b[0;32mwhile\u001b[0m \u001b[0;32mTrue\u001b[0m\u001b[0;34m:\u001b[0m\u001b[0;34m\u001b[0m\u001b[0;34m\u001b[0m\u001b[0m\n\u001b[0;32m----> 2\u001b[0;31m     \u001b[0mprint\u001b[0m\u001b[0;34m(\u001b[0m\u001b[0mnext\u001b[0m\u001b[0;34m(\u001b[0m\u001b[0mmy_iter\u001b[0m\u001b[0;34m)\u001b[0m\u001b[0;34m)\u001b[0m\u001b[0;34m\u001b[0m\u001b[0;34m\u001b[0m\u001b[0m\n\u001b[0m",
      "\u001b[0;31mStopIteration\u001b[0m: "
     ]
    }
   ],
   "source": [
    "my_iter = map(lambda x: x%3==0, [1,2,3,4,5,6])\n",
    "\n",
    "while True:\n",
    "    print(next(my_iter))"
   ]
  },
  {
   "cell_type": "code",
   "execution_count": 88,
   "metadata": {},
   "outputs": [
    {
     "name": "stdout",
     "output_type": "stream",
     "text": [
      "False\n",
      "False\n",
      "True\n",
      "False\n",
      "False\n",
      "True\n",
      "exceeded\n",
      "exceeded\n",
      "exceeded\n",
      "exceeded\n"
     ]
    }
   ],
   "source": [
    "my_iter = map(lambda x: x%3==0, [1,2,3,4,5,6])\n",
    "\n",
    "for i in range(10):\n",
    "    try:\n",
    "        print(next(my_iter))\n",
    "    except StopIteration:\n",
    "        print('exceeded')"
   ]
  },
  {
   "cell_type": "markdown",
   "metadata": {},
   "source": [
    "iterators might be more preferable than lists in cases when:\n",
    "    1) we don't need all the elements at once, so we could take only the next element, thus, spending less memory \n",
    "    2) we could create infinite loops with help of iterators and try/except blocks\n",
    "\n"
   ]
  },
  {
   "cell_type": "code",
   "execution_count": null,
   "metadata": {},
   "outputs": [],
   "source": []
  },
  {
   "cell_type": "code",
   "execution_count": null,
   "metadata": {},
   "outputs": [],
   "source": []
  },
  {
   "cell_type": "markdown",
   "metadata": {},
   "source": [
    "TASK 4\n",
    "\n",
    "In this task you need to use API of numbersapi.com site.\n",
    "You are given a set of numbers: 22, 43, 264, 1990. For each of the numbers, you need to find out if\n",
    "there is an interesting mathematical or historical fact about it. The answer should contain these facts\n",
    "marked as “MATH:” or “HIST:”."
   ]
  },
  {
   "cell_type": "code",
   "execution_count": 100,
   "metadata": {},
   "outputs": [],
   "source": [
    "import requests"
   ]
  },
  {
   "cell_type": "code",
   "execution_count": 164,
   "metadata": {},
   "outputs": [
    {
     "name": "stdout",
     "output_type": "stream",
     "text": [
      "MATH: 22 is an even composite number, its proper divisors being 1, 2 and 11.\n",
      "MATH: 43 is a centered heptagonal number.\n",
      "MATH: 264 is the largest known number whose square is undulating.\n",
      "MATH: 1990 is a stella octangula number.\n",
      "HIST: January 22nd is the day in 1863 that the January Uprising breaks out in Poland, Lithuania and Belarus.\n",
      "HIST: February 12th is the day in 1961 that U.S.S.R. launches Venera 1 towards Venus.\n",
      "HIST: September 20th is the day in 1961 that Greek general Konstantinos Dovas becomes Prime Minister of Greece.\n",
      "HIST: June 12th is the day in 1994 that the Boeing 777, the world's largest twinjet, makes its first flight.\n"
     ]
    }
   ],
   "source": [
    "typ='math'\n",
    "for number in [22, 43, 264, 1990]:\n",
    "    URL = f\"http://numbersapi.com/{number}/{typ}\"\n",
    "    # URL\n",
    "    result = requests.get(URL)\n",
    "    if result.ok:\n",
    "        print('MATH:', result.text)\n",
    "\n",
    "typ='date'\n",
    "for number in [22, 43, 264, 1990]:\n",
    "    URL = f\"http://numbersapi.com/{number}/{typ}\"\n",
    "    # URL\n",
    "    result = requests.get(URL)\n",
    "    if result.ok:\n",
    "        print('HIST:', result.text)"
   ]
  },
  {
   "cell_type": "code",
   "execution_count": 161,
   "metadata": {},
   "outputs": [],
   "source": []
  },
  {
   "cell_type": "code",
   "execution_count": null,
   "metadata": {},
   "outputs": [],
   "source": []
  },
  {
   "cell_type": "markdown",
   "metadata": {},
   "source": [
    "TASK 5\n",
    "\n",
    "Explore cobra’s preloaded core metabolism model of E.coli:\n",
    "from cobra import test\n",
    "model = test.create_test_model(\"textbook\") # Name: e_coli_core\n",
    "Knock out gene b3236 and write down what has changed in NADH production in cytosol."
   ]
  },
  {
   "cell_type": "code",
   "execution_count": 2,
   "metadata": {},
   "outputs": [],
   "source": [
    "from cobra import test\n",
    "model = test.create_test_model(\"textbook\") # Name: e_coli_core"
   ]
  },
  {
   "cell_type": "code",
   "execution_count": 4,
   "metadata": {},
   "outputs": [
    {
     "data": {
      "text/html": [
       "<h3>nadh_c</h3><p>C21H27N7O14P2</p><h4>Producing Reactions</h4><table border=\"1\" class=\"dataframe\">\n",
       "  <thead>\n",
       "    <tr style=\"text-align: right;\">\n",
       "      <th>Percent</th>\n",
       "      <th>Flux</th>\n",
       "      <th>Range</th>\n",
       "      <th>Reaction</th>\n",
       "      <th>Definition</th>\n",
       "    </tr>\n",
       "  </thead>\n",
       "  <tbody>\n",
       "    <tr>\n",
       "      <td>0.00%</td>\n",
       "      <td>0</td>\n",
       "      <td>[-1.513;  0]</td>\n",
       "      <td>ACALD</td>\n",
       "      <td>acald_c + coa_c + nad_c &lt;=&gt; accoa_c + h_c + nadh_c</td>\n",
       "    </tr>\n",
       "    <tr>\n",
       "      <td>18.46%</td>\n",
       "      <td>7.449</td>\n",
       "      <td>[0;  8.076]</td>\n",
       "      <td>AKGDH</td>\n",
       "      <td>akg_c + coa_c + nad_c --&gt; co2_c + nadh_c + succoa_c</td>\n",
       "    </tr>\n",
       "    <tr>\n",
       "      <td>0.00%</td>\n",
       "      <td>0</td>\n",
       "      <td>[-1.242;  0]</td>\n",
       "      <td>ALCD2x</td>\n",
       "      <td>etoh_c + nad_c &lt;=&gt; acald_c + h_c + nadh_c</td>\n",
       "    </tr>\n",
       "    <tr>\n",
       "      <td>7.26%</td>\n",
       "      <td>2.929</td>\n",
       "      <td>[2.783;  2.929]</td>\n",
       "      <td>Biomass_Ecoli_core</td>\n",
       "      <td>1.496 3pg_c + 3.7478 accoa_c + 59.81 atp_c + 0.361 e4p_c + 0.0709 f6p_c + 0.129 g3p_c + 0.205 g6p_c + 0.2557 gln__L_c + 4.9414 glu__L_c + 59.81 h2o_c + 3.547 nad_c + 13.0279 nadph_c + 1.7867 oaa_c + 0.5191 pep_c + 2.8328 pyr_c + 0.8977 r5p_c --&gt; 59.81 adp_c + 4.1182 akg_c + 3.7478 coa_c + 59.81 h_c + 3.547 nadh_c + 13.0279 nadp_c + 59.81 pi_c</td>\n",
       "    </tr>\n",
       "    <tr>\n",
       "      <td>44.12%</td>\n",
       "      <td>17.8</td>\n",
       "      <td>[9.838;  17.91]</td>\n",
       "      <td>GAPD</td>\n",
       "      <td>g3p_c + nad_c + pi_c &lt;=&gt; 13dpg_c + h_c + nadh_c</td>\n",
       "    </tr>\n",
       "    <tr>\n",
       "      <td>0.00%</td>\n",
       "      <td>0</td>\n",
       "      <td>[-1.188;  0]</td>\n",
       "      <td>LDH_D</td>\n",
       "      <td>lac__D_c + nad_c &lt;=&gt; h_c + nadh_c + pyr_c</td>\n",
       "    </tr>\n",
       "    <tr>\n",
       "      <td>1.83%</td>\n",
       "      <td>0.738</td>\n",
       "      <td>[0;  11.9]</td>\n",
       "      <td>ME1</td>\n",
       "      <td>mal__L_c + nad_c --&gt; co2_c + nadh_c + pyr_c</td>\n",
       "    </tr>\n",
       "    <tr>\n",
       "      <td>0.00%</td>\n",
       "      <td>0</td>\n",
       "      <td>[0;  44.63]</td>\n",
       "      <td>NADTRHD</td>\n",
       "      <td>nad_c + nadph_c --&gt; nadh_c + nadp_c</td>\n",
       "    </tr>\n",
       "    <tr>\n",
       "      <td>28.34%</td>\n",
       "      <td>11.43</td>\n",
       "      <td>[0.5791;  18.69]</td>\n",
       "      <td>PDH</td>\n",
       "      <td>coa_c + nad_c + pyr_c --&gt; accoa_c + co2_c + nadh_c</td>\n",
       "    </tr>\n",
       "  </tbody>\n",
       "</table><h4>Consuming Reactions</h4><table border=\"1\" class=\"dataframe\">\n",
       "  <thead>\n",
       "    <tr style=\"text-align: right;\">\n",
       "      <th>Percent</th>\n",
       "      <th>Flux</th>\n",
       "      <th>Range</th>\n",
       "      <th>Reaction</th>\n",
       "      <th>Definition</th>\n",
       "    </tr>\n",
       "  </thead>\n",
       "  <tbody>\n",
       "    <tr>\n",
       "      <td>100.00%</td>\n",
       "      <td>-40.36</td>\n",
       "      <td>[-51.41;  -35.29]</td>\n",
       "      <td>NADH16</td>\n",
       "      <td>4.0 h_c + nadh_c + q8_c --&gt; 3.0 h_e + nad_c + q8h2_c</td>\n",
       "    </tr>\n",
       "    <tr>\n",
       "      <td>0.00%</td>\n",
       "      <td>0</td>\n",
       "      <td>[-13.66;  0]</td>\n",
       "      <td>THD2</td>\n",
       "      <td>2.0 h_e + nadh_c + nadp_c --&gt; 2.0 h_c + nad_c + nadph_c</td>\n",
       "    </tr>\n",
       "  </tbody>\n",
       "</table>"
      ],
      "text/plain": [
       "<cobra.summary.metabolite_summary.MetaboliteSummary at 0x7f2f3240c820>"
      ]
     },
     "execution_count": 4,
     "metadata": {},
     "output_type": "execute_result"
    }
   ],
   "source": [
    "getattr(model.genes, \"b3236\").knock_out() #b3236.knock_out()\n",
    "model.optimize()\n",
    "model.metabolites.nadh_c.summary(fva=0.95)"
   ]
  },
  {
   "cell_type": "code",
   "execution_count": null,
   "metadata": {},
   "outputs": [],
   "source": []
  }
 ],
 "metadata": {
  "kernelspec": {
   "display_name": "Python 3",
   "language": "python",
   "name": "python3"
  },
  "language_info": {
   "codemirror_mode": {
    "name": "ipython",
    "version": 3
   },
   "file_extension": ".py",
   "mimetype": "text/x-python",
   "name": "python",
   "nbconvert_exporter": "python",
   "pygments_lexer": "ipython3",
   "version": "3.8.5"
  }
 },
 "nbformat": 4,
 "nbformat_minor": 4
}
